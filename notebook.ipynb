{
 "cells": [
  {
   "cell_type": "markdown",
   "metadata": {},
   "source": [
    "# Web Scraper"
   ]
  },
  {
   "cell_type": "code",
   "execution_count": 1,
   "metadata": {},
   "outputs": [],
   "source": [
    "import requests\n",
    "from bs4 import BeautifulSoup \n",
    "\n",
    "#Scrape the source code from the specified link:\n",
    "#In this example I'm using my own medium wall\n",
    "data = requests.get(\"https://fabiom91.medium.com\")\n",
    "soup = BeautifulSoup(data.content, 'html5lib')"
   ]
  },
  {
   "cell_type": "code",
   "execution_count": 2,
   "metadata": {},
   "outputs": [],
   "source": [
    "import re\n",
    "\n",
    "keywords= ['privacy','data','analytics','data science','cybersecurity']\n",
    "urls = []\n",
    "for key in keywords:\n",
    "    html = str(soup.find_all('a', attrs = {'href':re.compile(r'^.*\\b%s\\b.*$' % key)}))\n",
    "    href_start = [s.start() for s in re.finditer('href=\"',html)]\n",
    "    for start in href_start:\n",
    "        url = html[start+6:]\n",
    "        url = url[:url.find('\"')]\n",
    "        if not any(c in '#?^%*()=' for c in url):\n",
    "            if 'http' in url:\n",
    "                urls.append(url)\n",
    "            else:\n",
    "                urls.append(\"https://fabiom91.medium.com\" + url)\n",
    "            \n",
    "urls = list(set(urls))"
   ]
  },
  {
   "cell_type": "code",
   "execution_count": 3,
   "metadata": {},
   "outputs": [
    {
     "name": "stderr",
     "output_type": "stream",
     "text": [
      "100%|██████████| 2/2 [00:02<00:00,  1.11s/it]\n"
     ]
    }
   ],
   "source": [
    "from tqdm import tqdm\n",
    "previews = []\n",
    "for article in tqdm(urls):\n",
    "    data = requests.get(article)\n",
    "    soup = BeautifulSoup(data.content, 'html5lib')\n",
    "    \n",
    "    title = soup.find('h1').contents[0]\n",
    "    subtitle = soup.find('p').contents[0]\n",
    "    subtitle = BeautifulSoup(str(subtitle), 'lxml').text\n",
    "    for x in soup.find_all('img'):\n",
    "        try:\n",
    "            image = str(x.attrs['srcset']).split(\" \")[0]\n",
    "            break\n",
    "        except:\n",
    "            pass\n",
    "        \n",
    "    article_preview = {\n",
    "        'title': str(title),\n",
    "        'subtitle': str(subtitle),\n",
    "        'image': str(image)\n",
    "    }\n",
    "    previews.append(article_preview)"
   ]
  },
  {
   "cell_type": "code",
   "execution_count": 4,
   "metadata": {},
   "outputs": [
    {
     "name": "stdout",
     "output_type": "stream",
     "text": [
      "[{'title': 'Reclaim your privacy by distancing from Facebook and Google', 'subtitle': 'I was only a teenager when I started using Google and Facebook. At the time I didn’t know and didn’t care much about online privacy. My first reaction to anyone who would raise to me such concern would have been', 'image': 'https://miro.medium.com/max/552/1*1rC7yeHW09wBfLx-s_O78w.jpeg'}, {'title': 'Boost your Excel productivity with Pandas', 'subtitle': 'An absolute beginners’ introduction on Python Pandas for spreadsheet data analysis for everyday use at the office. No coding experience required.', 'image': 'https://miro.medium.com/max/552/1*LuL272ejYxifY1M9osNWTA.jpeg'}]\n"
     ]
    }
   ],
   "source": [
    "print(previews)"
   ]
  },
  {
   "cell_type": "markdown",
   "metadata": {},
   "source": [
    "# Newsletter template"
   ]
  },
  {
   "cell_type": "code",
   "execution_count": 5,
   "metadata": {},
   "outputs": [],
   "source": [
    "template = open('email.html')\n",
    "soup = BeautifulSoup(template.read(), \"html.parser\")"
   ]
  },
  {
   "cell_type": "code",
   "execution_count": 6,
   "metadata": {},
   "outputs": [],
   "source": [
    "article_template = soup.find('div', attrs={'class':'columns'})\n",
    "html_start = str(soup)[:str(soup).find(str(article_template))]\n",
    "html_end = str(soup)[str(soup).find(str(article_template))+len(str(article_template)):]\n",
    "html_start = html_start.replace('\\n','')\n",
    "html_end = html_end.replace('\\n','')"
   ]
  },
  {
   "cell_type": "code",
   "execution_count": 7,
   "metadata": {},
   "outputs": [],
   "source": [
    "newsletter_content = \"\"\n",
    "for i,article in enumerate(previews):\n",
    "    \n",
    "    try:\n",
    "        img = article_template.img\n",
    "        img['src'] = article['image']\n",
    "        article_template.img.replace_with(img)\n",
    "    except:\n",
    "        pass\n",
    "    \n",
    "    title = article_template.h1\n",
    "    title.string = article['title'][:300]\n",
    "    \n",
    "    subtitle = article_template.p\n",
    "    subtitle.string = article['subtitle'][:300] + \"...\"\n",
    "    \n",
    "    link = article_template.a\n",
    "    link['href'] = urls[i]\n",
    "    link.string = urls[i]\n",
    "    article_template.a.replace_with(link)\n",
    "    \n",
    "    \n",
    "    newsletter_content += str(article_template).replace('\\n','')\n",
    "\n",
    "email_content = html_start + newsletter_content + html_end"
   ]
  },
  {
   "cell_type": "code",
   "execution_count": 8,
   "metadata": {},
   "outputs": [
    {
     "name": "stdout",
     "output_type": "stream",
     "text": [
      "<!DOCTYPE html>\n",
      "<html>\n",
      " <head>\n",
      "  <meta charset=\"utf-8\"/>\n",
      "  <meta content=\"width=device-width, initial-scale=1\" name=\"viewport\"/>\n",
      "  <link href=\"https://cdn.jsdelivr.net/npm/bulma@0.9.1/css/bulma.min.css\" rel=\"stylesheet\"/>\n",
      " </head>\n",
      " <body>\n",
      "  <section class=\"section\">\n",
      "   <div class=\"columns\">\n",
      "    <div class=\"column is-one-fifth\">\n",
      "     <img alt=\"article_pic\" src=\"https://miro.medium.com/max/552/1*1rC7yeHW09wBfLx-s_O78w.jpeg\"/>\n",
      "    </div>\n",
      "    <div class=\"column\">\n",
      "     <h1 class=\"title\">\n",
      "      Reclaim your privacy by distancing from Facebook and Google\n",
      "     </h1>\n",
      "     <p class=\"subtitle\">\n",
      "      I was only a teenager when I started using Google and Facebook. At the time I didn’t know and didn’t care much about online privacy. My first reaction to anyone who would raise to me such concern would have been...\n",
      "     </p>\n",
      "     <a href=\"https://fabiom91.medium.com/reclaim-your-privacy-by-distancing-from-facebook-and-google-691006136b5\">\n",
      "      https://fabiom91.medium.com/reclaim-your-privacy-by-distancing-from-facebook-and-google-691006136b5\n",
      "     </a>\n",
      "    </div>\n",
      "   </div>\n",
      "   <div class=\"columns\">\n",
      "    <div class=\"column is-one-fifth\">\n",
      "     <img alt=\"article_pic\" src=\"https://miro.medium.com/max/552/1*LuL272ejYxifY1M9osNWTA.jpeg\"/>\n",
      "    </div>\n",
      "    <div class=\"column\">\n",
      "     <h1 class=\"title\">\n",
      "      Boost your Excel productivity with Pandas\n",
      "     </h1>\n",
      "     <p class=\"subtitle\">\n",
      "      An absolute beginners’ introduction on Python Pandas for spreadsheet data analysis for everyday use at the office. No coding experience required....\n",
      "     </p>\n",
      "     <a href=\"https://medium.com/analytics-vidhya/boost-your-excel-productivity-with-pandas-b107e420d9d4\">\n",
      "      https://medium.com/analytics-vidhya/boost-your-excel-productivity-with-pandas-b107e420d9d4\n",
      "     </a>\n",
      "    </div>\n",
      "   </div>\n",
      "  </section>\n",
      " </body>\n",
      "</html>\n"
     ]
    }
   ],
   "source": [
    "print(BeautifulSoup(email_content).prettify())"
   ]
  },
  {
   "cell_type": "markdown",
   "metadata": {},
   "source": [
    "# Send email (SMTP)"
   ]
  },
  {
   "cell_type": "code",
   "execution_count": 9,
   "metadata": {},
   "outputs": [],
   "source": [
    "import smtplib, ssl\n",
    "from email.mime.text import MIMEText\n",
    "from email.mime.multipart import MIMEMultipart"
   ]
  },
  {
   "cell_type": "code",
   "execution_count": 10,
   "metadata": {},
   "outputs": [],
   "source": [
    "# sender_email = \"my_sender_email@gmail.com\"\n",
    "# receiver_email = \"myemail@yahoo.com\"\n",
    "# # sender email password\n",
    "# password = \"**************\"\n",
    "\n",
    "# message = MIMEMultipart(\"alternative\")\n",
    "# message[\"Subject\"] = \"My awesome newsletter\"\n",
    "# message[\"From\"] = sender_email\n",
    "# message[\"To\"] = receiver_email\n",
    "\n",
    "# # Create the plain-text and HTML version of your message\n",
    "# text = \"Hi, I've found some article that you might find interesting: %s\" % previews\n",
    "# html = email_content\n",
    "\n",
    "# # Turn these into plain/html MIMEText objects\n",
    "# part1 = MIMEText(text, \"plain\")\n",
    "# part2 = MIMEText(html, \"html\")\n",
    "\n",
    "# # Add HTML/plain-text parts to MIMEMultipart message\n",
    "# # The email client will try to render the last part first\n",
    "# message.attach(part1)\n",
    "# message.attach(part2)\n",
    "\n",
    "# # Create secure connection with server and send email\n",
    "# context = ssl.create_default_context()\n",
    "# with smtplib.SMTP_SSL(\"smtp.gmail.com\", 465, context=context) as server:\n",
    "#     server.ehlo()\n",
    "#     server.login(sender_email, password)\n",
    "#     server.sendmail(\n",
    "#         sender_email, receiver_email, message.as_string()\n",
    "#     )"
   ]
  }
 ],
 "metadata": {
  "kernelspec": {
   "display_name": "Python 3",
   "language": "python",
   "name": "python3"
  },
  "language_info": {
   "codemirror_mode": {
    "name": "ipython",
    "version": 3
   },
   "file_extension": ".py",
   "mimetype": "text/x-python",
   "name": "python",
   "nbconvert_exporter": "python",
   "pygments_lexer": "ipython3",
   "version": "3.8.5"
  }
 },
 "nbformat": 4,
 "nbformat_minor": 4
}
